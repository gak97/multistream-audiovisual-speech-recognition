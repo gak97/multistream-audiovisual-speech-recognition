{
 "cells": [
  {
   "cell_type": "code",
   "execution_count": 1,
   "metadata": {},
   "outputs": [],
   "source": [
    "import numpy as np\n",
    "from tensorflow.keras.preprocessing.sequence import pad_sequences\n",
    "from tensorflow.keras.preprocessing.text import Tokenizer\n",
    "from tensorflow.keras.utils import to_categorical\n",
    "from tensorflow.keras.models import Model\n",
    "from tensorflow.keras.layers import Input, Dense, LSTM, Conv1D, Multiply, Permute, BatchNormalization, MaxPool1D, TimeDistributed, RepeatVector, Lambda, Bidirectional\n",
    "from tensorflow.keras import backend as K\n",
    "from tensorflow.keras import callbacks as kcallbacks\n",
    "from sklearn.model_selection import train_test_split"
   ]
  },
  {
   "cell_type": "code",
   "execution_count": 2,
   "metadata": {},
   "outputs": [],
   "source": [
    "def attention_3d_block(inputs, single_attention_vector=False):\n",
    "    time_steps = K.int_shape(inputs)[1]\n",
    "    input_dim = K.int_shape(inputs)[2]\n",
    "    a = Permute((2, 1))(inputs)\n",
    "    a = Dense(time_steps, activation='softmax')(a)\n",
    "    if single_attention_vector:\n",
    "        a = Lambda(lambda x: K.mean(x, axis=1))(a)\n",
    "        a = RepeatVector(input_dim)(a)\n",
    "    a_probs = Permute((2, 1))(a)\n",
    "    output_attention_mul = Multiply()([inputs, a_probs])\n",
    "    return output_attention_mul"
   ]
  },
  {
   "cell_type": "code",
   "execution_count": 3,
   "metadata": {},
   "outputs": [],
   "source": [
    "def attention_model(n_classes):\n",
    "    inputs = Input(shape=(152, 7))\n",
    "    x = BatchNormalization()(inputs)\n",
    "    x = Conv1D(filters=32, kernel_size=1, padding=\"same\", kernel_initializer='he_normal', bias_initializer='zeros', activation='relu')(x)\n",
    "    x = MaxPool1D()(x)\n",
    "    lstm_out = Bidirectional(LSTM(64, return_sequences=True, dropout=0.2, recurrent_dropout=0.2))(x)\n",
    "    lstm_out = Bidirectional(LSTM(64, return_sequences=True, dropout=0.2, recurrent_dropout=0.2))(lstm_out)\n",
    "    # print(K.int_shape(lstm_out))\n",
    "    attention_mul = attention_3d_block(lstm_out)\n",
    "    attention_mul = TimeDistributed(Dense(n_classes, activation='softmax'))(attention_mul)\n",
    "    model = Model(inputs=[inputs], outputs=attention_mul)\n",
    "    return model"
   ]
  },
  {
   "cell_type": "code",
   "execution_count": 11,
   "metadata": {},
   "outputs": [],
   "source": [
    "# Load and process your data\n",
    "gabor_features = np.load('data.npy')  # data\n",
    "sequences = np.load('label.npy')  # labels"
   ]
  },
  {
   "cell_type": "code",
   "execution_count": 12,
   "metadata": {},
   "outputs": [
    {
     "data": {
      "text/plain": [
       "(1258, 152, 7)"
      ]
     },
     "execution_count": 12,
     "metadata": {},
     "output_type": "execute_result"
    }
   ],
   "source": [
    "gabor_features.shape"
   ]
  },
  {
   "cell_type": "code",
   "execution_count": 14,
   "metadata": {},
   "outputs": [
    {
     "data": {
      "text/plain": [
       "array([[ 3.20000000e+01,  5.00000000e+00,  8.70000000e+01, ...,\n",
       "         7.63218391e+00,  1.97460000e+04, -1.53666249e+00],\n",
       "       [ 2.40000000e+01,  6.00000000e+00,  1.10000000e+02, ...,\n",
       "         8.42727273e+00,  2.11650000e+04, -1.52552821e+00],\n",
       "       [ 2.30000000e+01,  6.00000000e+00,  1.02000000e+02, ...,\n",
       "         8.65686275e+00,  2.04510000e+04, -1.54450937e+00],\n",
       "       ...,\n",
       "       [ 0.00000000e+00,  0.00000000e+00,  0.00000000e+00, ...,\n",
       "         0.00000000e+00,  0.00000000e+00,  0.00000000e+00],\n",
       "       [ 0.00000000e+00,  0.00000000e+00,  0.00000000e+00, ...,\n",
       "         0.00000000e+00,  0.00000000e+00,  0.00000000e+00],\n",
       "       [ 0.00000000e+00,  0.00000000e+00,  0.00000000e+00, ...,\n",
       "         0.00000000e+00,  0.00000000e+00,  0.00000000e+00]])"
      ]
     },
     "execution_count": 14,
     "metadata": {},
     "output_type": "execute_result"
    }
   ],
   "source": [
    "gabor_features[0]"
   ]
  },
  {
   "cell_type": "code",
   "execution_count": 13,
   "metadata": {},
   "outputs": [
    {
     "data": {
      "text/plain": [
       "(1256,)"
      ]
     },
     "execution_count": 13,
     "metadata": {},
     "output_type": "execute_result"
    }
   ],
   "source": [
    "sequences.shape"
   ]
  },
  {
   "cell_type": "code",
   "execution_count": 15,
   "metadata": {},
   "outputs": [
    {
     "data": {
      "text/plain": [
       "\"Text:  WHEN YOU'RE COOKING CHIPS AT HOME\""
      ]
     },
     "execution_count": 15,
     "metadata": {},
     "output_type": "execute_result"
    }
   ],
   "source": [
    "sequences[0]"
   ]
  },
  {
   "cell_type": "code",
   "execution_count": 20,
   "metadata": {},
   "outputs": [],
   "source": [
    "def load_and_process_data(gabor_features, sequences):\n",
    "    # Convert text sequences to numeric\n",
    "    tokenizer = Tokenizer()\n",
    "    tokenizer.fit_on_texts(sequences)\n",
    "    sequences_numeric = tokenizer.texts_to_sequences(sequences)\n",
    "    print(sequences_numeric[0])\n",
    "    # print(tokenizer.word_index)\n",
    "\n",
    "    # Convert sequences to categorical\n",
    "    sequences_categorical = [to_categorical(seq, num_classes=len(tokenizer.word_index) + 1) for seq in sequences_numeric]\n",
    "    # print(sequences_categorical[0])\n",
    "\n",
    "    # Pad the sequences and targets\n",
    "    gabor_features_padded = pad_sequences(gabor_features, dtype='float32', padding='post')\n",
    "    print(gabor_features_padded[0])\n",
    "    sequences_padded = pad_sequences(sequences_categorical, maxlen=76, dtype='float32', padding='post', truncating='post')\n",
    "    print(sequences_padded[0])\n",
    "\n",
    "    return gabor_features_padded, sequences_padded, len(tokenizer.word_index) + 1"
   ]
  },
  {
   "cell_type": "code",
   "execution_count": 21,
   "metadata": {},
   "outputs": [
    {
     "name": "stdout",
     "output_type": "stream",
     "text": [
      "[1, 45, 105, 457, 458, 26, 96]\n",
      "{'text': 1, 'the': 2, 'a': 3, 'to': 4, 'and': 5, 'of': 6, 'i': 7, 'you': 8, 'in': 9, 'is': 10, 'that': 11, 'it': 12, 'was': 13, 'but': 14, 'we': 15, 'they': 16, 'on': 17, 'for': 18, 'have': 19, 'with': 20, 'this': 21, 'be': 22, 'not': 23, 'if': 24, 'are': 25, 'at': 26, 'as': 27, \"it's\": 28, 'about': 29, 'what': 30, 'like': 31, 'do': 32, 'think': 33, 'which': 34, 'because': 35, 'all': 36, 'one': 37, \"i'm\": 38, 'would': 39, 'my': 40, 'there': 41, 'from': 42, 'out': 43, 'very': 44, 'when': 45, \"that's\": 46, 'people': 47, 'so': 48, 'them': 49, 'he': 50, 'really': 51, 'or': 52, 'up': 53, 'get': 54, 'an': 55, 'she': 56, 'had': 57, 'now': 58, 'here': 59, 'your': 60, 'by': 61, 'been': 62, 'some': 63, 'know': 64, 'can': 65, 'how': 66, \"don't\": 67, 'us': 68, 'going': 69, 'their': 70, 'more': 71, 'has': 72, 'just': 73, 'well': 74, 'time': 75, 'got': 76, 'much': 77, 'something': 78, 'go': 79, 'property': 80, 'could': 81, 'were': 82, 'over': 83, 'off': 84, 'good': 85, 'who': 86, 'want': 87, 'me': 88, 'find': 89, 'should': 90, 'house': 91, 'great': 92, 'make': 93, 'right': 94, 'did': 95, 'home': 96, 'need': 97, 'then': 98, 'things': 99, 'will': 100, 'most': 101, 'say': 102, 'way': 103, 'see': 104, \"you're\": 105, 'down': 106, 'actually': 107, 'only': 108, 'where': 109, 'any': 110, \"they're\": 111, 'why': 112, 'our': 113, 'those': 114, 'back': 115, 'these': 116, \"we've\": 117, 'two': 118, 'made': 119, 'love': 120, \"there's\": 121, 'big': 122, 'question': 123, 'quite': 124, 'no': 125, 'lot': 126, 'still': 127, \"we're\": 128, 'into': 129, 'other': 130, 'look': 131, 'said': 132, 'his': 133, 'show': 134, 'even': 135, 'day': 136, 'than': 137, 'week': 138, 'come': 139, 'thing': 140, 'might': 141, 'being': 142, 'work': 143, 'years': 144, 'working': 145, 'many': 146, 'bit': 147, 'man': 148, 'three': 149, 'thought': 150, 'her': 151, 'world': 152, 'around': 153, 'bbc': 154, 'last': 155, 'part': 156, 'take': 157, 'gone': 158, 'before': 159, 'same': 160, 'job': 161, 'never': 162, 'old': 163, 'talking': 164, 'maybe': 165, \"can't\": 166, 'money': 167, 'marriage': 168, \"let's\": 169, 'always': 170, 'through': 171, 'first': 172, 'its': 173, 'him': 174, 'anything': 175, \"i've\": 176, 'today': 177, 'away': 178, 'try': 179, 'enough': 180, 'saying': 181, \"she's\": 182, 'pretty': 183, 'everything': 184, 'god': 185, \"wasn't\": 186, 'sure': 187, 'whole': 188, 'am': 189, 'country': 190, 'radio': 191, 'lost': 192, 'life': 193, 'few': 194, 'may': 195, 'society': 196, 'long': 197, 'morning': 198, 'against': 199, 'remember': 200, 'new': 201, 'little': 202, \"we'll\": 203, 'kind': 204, \"doesn't\": 205, 'end': 206, \"wouldn't\": 207, 'also': 208, 'lovely': 209, 'believe': 210, 'wanted': 211, 'small': 212, \"didn't\": 213, 'hard': 214, 'play': 215, \"he's\": 216, 'mike': 217, 'meat': 218, 'known': 219, 'family': 220, 'after': 221, 'area': 222, 'times': 223, 'every': 224, 'everyone': 225, 'comes': 226, 'stars': 227, 'put': 228, 'under': 229, 'high': 230, 'ones': 231, 'tell': 232, 'stories': 233, 'best': 234, 'again': 235, 'deal': 236, 'business': 237, '1': 238, 'night': 239, 'bedroom': 240, 'four': 241, 'flat': 242, 'room': 243, 'later': 244, 'came': 245, 'bad': 246, 'place': 247, 'does': 248, 'actual': 249, 'story': 250, 'film': 251, 'different': 252, 'british': 253, 'too': 254, 'together': 255, 'doing': 256, 'live': 257, 'left': 258, '10': 259, 'hear': 260, 'half': 261, 'key': 262, 'seen': 263, 'huge': 264, 'nice': 265, 'head': 266, 'heavy': 267, 'water': 268, 'war': 269, 'music': 270, 'between': 271, 'certain': 272, 'probably': 273, 'black': 274, 'broadcast': 275, 'days': 276, 'london': 277, 'conditions': 278, 'went': 279, 'fire': 280, 'breaking': 281, 'fact': 282, 'buy': 283, 'problem': 284, 'faith': 285, 'happen': 286, 'please': 287, 'lives': 288, 'sort': 289, 'case': 290, 'early': 291, \"i'll\": 292, 'million': 293, 'news': 294, 'young': 295, 'rain': 296, 'done': 297, 'local': 298, 'next': 299, 'fairies': 300, 'garden': 301, 'hope': 302, 'help': 303, 'able': 304, 'write': 305, 'bathroom': 306, 'price': 307, 'already': 308, 'hour': 309, 'programme': 310, 'minutes': 311, \"i'd\": 312, 'course': 313, 'others': 314, 'somewhere': 315, 'maximum': 316, 'kitchen': 317, 'front': 318, 'studio': 319, 'interested': 320, 'tv': 321, 'space': 322, 'such': 323, 'let': 324, 'knew': 325, 'rather': 326, 'mind': 327, 'pleased': 328, 'run': 329, 'birds': 330, 'traditional': 331, 'chip': 332, 'often': 333, 'makes': 334, 'amount': 335, 'inside': 336, 'fish': 337, 'stage': 338, 'nightingale': 339, 'looking': 340, 'herself': 341, 'writing': 342, 'helped': 343, 'future': 344, 'prepared': 345, 'since': 346, 'record': 347, 'men': 348, 'walk': 349, 'terms': 350, 'line': 351, 'christians': 352, 'idea': 353, 'christian': 354, 'heard': 355, 'wear': 356, 'basic': 357, 'white': 358, 'having': 359, 'although': 360, 'grown': 361, 'couple': 362, 'own': 363, 'uk': 364, 'caught': 365, 'children': 366, 'once': 367, 'low': 368, 'showers': 369, 'frost': 370, 'gave': 371, '20': 372, 'comet': 373, 'exciting': 374, 'surface': 375, 'road': 376, 'art': 377, 'collection': 378, 'themselves': 379, \"haven't\": 380, 'furniture': 381, \"you'd\": 382, 'dreams': 383, 'spend': 384, 'heart': 385, 'towards': 386, 'fight': 387, 'certainly': 388, 'without': 389, 'build': 390, 'read': 391, 'another': 392, 'top': 393, 'until': 394, 'cover': 395, 'least': 396, 'reason': 397, 'programmes': 398, 'far': 399, 'west': 400, \"couldn't\": 401, 'better': 402, 'plenty': 403, 'lived': 404, 'estate': 405, 'budget': 406, 'friends': 407, 'says': 408, 'round': 409, 'close': 410, 'centre': 411, 'used': 412, 'perfect': 413, '60s': 414, 'decade': 415, 'sat': 416, 'real': 417, 'coming': 418, 'called': 419, 'saw': 420, 'mother': 421, 'give': 422, 'ready': 423, 'amazing': 424, 'set': 425, 'someone': 426, 'living': 427, 'bible': 428, 'nothing': 429, 'understand': 430, 'specifically': 431, 'trying': 432, 'join': 433, 'decide': 434, 'loved': 435, 'overall': 436, 'both': 437, 'ever': 438, 'sport': 439, \"aren't\": 440, 'pictures': 441, 'dining': 442, 'club': 443, 'free': 444, 'pool': 445, 'wild': 446, 'card': 447, 'food': 448, 'moment': 449, 'works': 450, 'jesus': 451, 'cliffs': 452, 'catch': 453, 'five': 454, 'dales': 455, 'caffeine': 456, 'cooking': 457, 'chips': 458, 'call': 459, 'colour': 460, 'flavour': 461, 'crunch': 462, 'grow': 463, 'ingredients': 464, 'soft': 465, 'sometimes': 466, 'given': 467, 'florence': 468, 'miss': 469, 'dr': 470, 'cure': 471, 'everybody': 472, 'clever': 473, 'stand': 474, 'turn': 475, 'hours': 476, 'sacrifice': 477, 'birmingham': 478, 'masks': 479, 'past': 480, 'ten': 481, 'prime': 482, 'rural': 483, 'imagined': 484, 'whatever': 485, 'weather': 486, 'pumpkin': 487, 'wants': 488, 'military': 489, 'individual': 490, 'countries': 491, 'minute': 492, 'decent': 493, 'pay': 494, 'democratic': 495, 'workers': 496, 'blame': 497, 'unions': 498, 'public': 499, 'strike': 500, 'example': 501, 'moral': 502, 'police': 503, 'law': 504, 'dress': 505, 'muslims': 506, 'halal': 507, 'point': 508, 'poll': 509, 'court': 510, 'claim': 511, 'allowed': 512, 'despite': 513, 'freedom': 514, 'speech': 515, 'principle': 516, 'american': 517, 'effectively': 518, 'history': 519, 'women': 520, 'peace': 521, 'sides': 522, 'died': 523, 'perhaps': 524, 'father': 525, 'side': 526, 'view': 527, 'wrong': 528, 'ultimate': 529, 'decision': 530, 'respect': 531, 'involved': 532, 'wars': 533, 'greater': 534, 'quality': 535, 'clock': 536, 'underneath': 537, \"they'll\": 538, 'base': 539, 'finding': 540, 'formed': 541, 'getting': 542, 'while': 543, 'industries': 544, 'threat': 545, \"you've\": 546, 'weeks': 547, 'calendar': 548, 'beauty': 549, 'pressure': 550, 'avoid': 551, 'along': 552, 'north': 553, 'east': 554, 'accompanied': 555, 'strong': 556, 'safety': 557, 'millions': 558, 'heat': 559, 'ice': 560, 'order': 561, 'sky': 562, 'dark': 563, 'breaker': 564, 'bed': 565, 'watching': 566, 'standard': 567, 'worst': 568, 'bedrooms': 569, 'bottom': 570, 'environment': 571, 'welcome': 572, 'central': 573, 'parking': 574, 'absolutely': 575, 'hate': 576, 'needs': 577, 'impact': 578, 'thank': 579, 'yet': 580, 'shall': 581, '19th': 582, 'century': 583, 'literally': 584, 'bikes': 585, 'mainly': 586, 'survive': 587, 'europe': 588, \"he'd\": 589, 'pick': 590, 'vegetable': 591, 'sent': 592, 'started': 593, 'arabic': 594, 'school': 595, 'stuff': 596, 'lectures': 597, 'buying': 598, 'cheaper': 599, 'betting': 600, 'game': 601, 'commute': 602, 'adult': 603, 'success': 604, 'happy': 605, 'variety': 606, 'telling': 607, 'remembrance': 608, 'starting': 609, 'daytime': 610, 'available': 611, 'recent': 612, 'late': 613, 'act': 614, 'disappear': 615, 'pack': 616, 'deer': 617, 'bringing': 618, 'needed': 619, 'flight': 620, 'king': 621, 'total': 622, 'giving': 623, 'must': 624, 'hit': 625, 'answer': 626, 'dog': 627, 'waiting': 628, 'moon': 629, 'bag': 630, 'myself': 631, 'town': 632, 'sorts': 633, 'objects': 634, 'monday': 635, 'garage': 636, 'cos': 637, 'gorgeous': 638, 'fit': 639, 'prize': 640, 'feel': 641, 'kicking': 642, 'modern': 643, 'expert': 644, 'completely': 645, 'market': 646, 'theatre': 647, 'second': 648, 'full': 649, 'royal': 650, 'fashion': 651, 'else': 652, 'dressed': 653, 'respectable': 654, 'leave': 655, 'favourite': 656, 'driven': 657, 'size': 658, 'beautiful': 659, 'red': 660, 'hot': 661, 'massive': 662, 'social': 663, 'change': 664, 'share': 665, 'headlines': 666, 'brilliant': 667, 'sale': 668, 'within': 669, 'cold': 670, 'cross': 671, 'events': 672, 'lord': 673, 'relationship': 674, 'career': 675, 'thanks': 676, 'national': 677, 'park': 678, 'building': 679, 'generally': 680, 'exclusive': 681, 'truly': 682, 'choice': 683, 'freezer': 684, 'breakdown': 685, 'difficult': 686, 'explain': 687, 'marry': 688, 'exceptions': 689, 'teaching': 690, 'church': 691, 'conscious': 692, 'inspiration': 693, 'turned': 694, 'careful': 695, 'binding': 696, 'inspired': 697, 'human': 698, 'asked': 699, \"shouldn't\": 700, 'professor': 701, 'created': 702, 'animals': 703, 'fantastic': 704, 'soon': 705, 'giant': 706, 'child': 707, \"you'll\": 708, 'enormous': 709, 'norwegian': 710, 'adventure': 711, 'eb': 712, 'start': 713, 'coverage': 714, 'applies': 715, 'team': 716, 'according': 717, 'antlers': 718, 'investigating': 719, 'hiding': 720, 'devon': 721, 'village': 722, 'ways': 723, 'jb': 724, 'mark': 725, 'lad': 726, 'former': 727, 'walking': 728, 'eyes': 729, 'anne': 730, 'use': 731, 'bridgford': 732, '180': 733, 'ruddington': 734, 'swimming': 735, 'bath': 736, 'rachel': 737, \"they'd\": 738, 'means': 739, 'sound': 740, 'auctioneer': 741, 'thinks': 742, 'light': 743, 'profit': 744, 'sell': 745, 'field': 746, 'worked': 747, 'result': 748, '300': 749, 'audience': 750, 'playing': 751, 'farm': 752, 'buildings': 753, \"won't\": 754, 'rest': 755, 'friendly': 756, 'character': 757, \"weren't\": 758, 'dot': 759, 'planning': 760, 'tea': 761, 'blackpool': 762, 'cab': 763, 'lake': 764, 'boats': 765, 'reserved': 766, 'model': 767, 'wind': 768, 'fair': 769, 'stay': 770, 'feet': 771, 'steamer': 772, 'famous': 773, 'smell': 774, 'gets': 775, 'keep': 776, 'control': 777, 'series': 778, 'rock': 779, 'drunk': 780, 'mad': 781, 'guy': 782, \"they've\": 783, '000': 784, 'bargain': 785, 'coffee': 786, 'feels': 787, 'mouth': 788, 'auction': 789, 'luck': 790, 'imagination': 791, 'whenever': 792, 'universe': 793, \"hadn't\": 794, 'poultry': 795, 'farmers': 796, 'barns': 797, '5': 798, 'william': 799, 'landscape': 800, 'year': 801, 'track': 802, 'users': 803, 'per': 804, \"someone's\": 805, 'system': 806, 'whether': 807, 'taking': 808, 'hand': 809, 'artist': 810, 'samples': 811, 'spent': 812, 'plus': 813, 'term': 814, 'machine': 815, 'chill': 816, 'rent': 817, 'workhouse': 818, 'benefits': 819, 'particularly': 820, 'parents': 821, 'pan': 822, 'stays': 823, 'shelf': 824, 'knife': 825, 'block': 826, 'involves': 827, 'firing': 828, 'potato': 829, 'pipe': 830, 'apart': 831, 'golden': 832, 'delicious': 833, 'fresh': 834, 'fryer': 835, 'peanuts': 836, 'underground': 837, 'label': 838, 'ooze': 839, 'prettiest': 840, 'ugly': 841, 'mashing': 842, 'metal': 843, 'poisons': 844, 'staying': 845, \"gully's\": 846, 'establishment': 847, 'malvern': 848, 'crimean': 849, 'establishing': 850, 'nursing': 851, 'true': 852, 'profession': 853, 'visited': 854, 'found': 855, 'newspapers': 856, 'worried': 857, 'colours': 858, 'lights': 859, 'deathbed': 860, 'beginning': 861, 'committee': 862, 'short': 863, 'demand': 864, 'therefore': 865, 'magically': 866, 'event': 867, 'german': 868, 'invasion': 869, 'industrial': 870, 'victorian': 871, 'civilian': 872, 'gas': 873, 'defend': 874, 'riverbank': 875, 'managed': 876, 'gather': 877, 'information': 878, 'winston': 879, 'churchill': 880, 'minister': 881, 'revolves': 882, 'farming': 883, 'surely': 884, 'doubts': 885, '4': 886, 'sundays': 887, 'fridays': 888, '24': 889, 'episodes': 890, 'six': 891, \"month's\": 892, 'air': 893, 'each': 894, \"other's\": 895, 'pockets': 896, 'entanglements': 897, 'archers': 898, 'educational': 899, 'purpose': 900, '1972': 901, 'prides': 902, 'itself': 903, 'reflection': 904, 'lovable': 905, 'rogue': 906, 'takes': 907, 'dominant': 908, 'pies': 909, 'pie': 910, 'blend': 911, 'soup': 912, 'carving': 913, 'records': 914, 'assure': 915, 'ex': 916, 'folio': 917, 'sheets': 918, 'containing': 919, 'map': 920, 'describing': 921, 'agree': 922, 'donate': 923, 'issue': 924, 'instructions': 925, 'employees': 926, 'fighting': 927, 'care': 928, 'lousy': 929, 'avoided': 930, 'postal': 931, 'strikers': 932, 'draw': 933, 'muscles': 934, 'flex': 935, 'cosh': 936, 'strikes': 937, 'justified': 938, 'tactics': 939, 'bully': 940, 'boy': 941, 'democratically': 942, 'voted': 943, 'ethical': 944, 'standards': 945, 'opt': 946, 'outs': 947, 'reality': 948, 'immediately': 949, 'poor': 950, 'explode': 951, 'multicultural': 952, 'britain': 953, 'jewish': 954, 'person': 955, 'expect': 956, 'kfc': 957, 'menu': 958, 'keeping': 959, 'atheists': 960, 'parliament': 961, 'terminate': 962, 'extreme': 963, 'domain': 964, 'solely': 965, 'violent': 966, 'vote': 967, 'tx': 968, 'closes': 969, 'banned': 970, 'fostering': 971, 'profile': 972, 'bishops': 973, 'among': 974, 'alison': 975, 'ruoff': 976, 'evangelical': 977, 'shares': 978, 'fears': 979, 'virtually': 980, 'bends': 981, 'backwards': 982, 'accommodate': 983, 'symbols': 984, 'minority': 985, 'secretive': 986, 'introduction': 987, 'touch': 988, 'wish': 989, 'campaign': 990, 'trail': 991, 'thursday': 992, 'armistice': 993, 'wearing': 994, 'poppies': 995, 'commemorate': 996, 'sacrifices': 997, 'soldiers': 998, 'implement': 999, '120s': 1000, 'fathers': 1001, 'commitment': 1002, 'allies': 1003, 'move': 1004, 'committed': 1005, 'crime': 1006, 'nation': 1007, 'normandy': 1008, 'bombing': 1009, 'dresden': 1010, 'shameful': 1011, 'commit': 1012, 'contribute': 1013, 'website': 1014, 'striking': 1015, 'poppy': 1016, 'laid': 1017, 'actively': 1018, 'recognition': 1019, 'limbs': 1020, 'nowadays': 1021, 'exceptionally': 1022, 'trains': 1023, 'sad': 1024, 'spawned': 1025, 'thousand': 1026, 'imitations': 1027, 'suburban': 1028, 'margate': 1029, 'worry': 1030, 'bald': 1031, 'patch': 1032, 'research': 1033, 'lately': 1034, 'county': 1035, \"matt's\": 1036, 'lesson': 1037, 'craft': 1038, 'catching': 1039, 'mackerel': 1040, 'fishing': 1041, 'profitable': 1042, 'multi': 1043, 'pound': 1044, 'tom': 1045, 'heap': 1046, 'scotland': 1047, 'across': 1048, 'surrey': 1049, 'bread': 1050, 'butter': 1051, 'wool': 1052, \"sheep's\": 1053, 'backs': 1054, 'supports': 1055, 'kinds': 1056, 'generosity': 1057, 'vital': 1058, 'reminder': 1059, 'countryfile': 1060, 'satellite': 1061, 'picture': 1062, 'walked': 1063, 'dorking': 1064, 'rare': 1065, 'breed': 1066, 'wet': 1067, 'spiralling': 1068, 'brighter': 1069, 'autumn': 1070, 'sunshine': 1071, 'lots': 1072, 'coast': 1073, 'england': 1074, 'trenches': 1075, 'protection': 1076, 'psychological': 1077, 'dimension': 1078, 'billions': 1079, 'weak': 1080, 'gravity': 1081, 'sites': 1082, 'source': 1083, 'jets': 1084, 'comets': 1085, \"sun's\": 1086, 'mostly': 1087, 'composed': 1088, 'hartley': 1089, '2': 1090, 'wait': 1091, 'possibly': 1092, 'manic': 1093, 'lisa': 1094, 'indecisive': 1095, 'ok': 1096, 'master': 1097, 'wow': 1098, 'factor': 1099, 'factored': 1100, 'nicely': 1101, 'bearer': 1102, '2012': 1103, 'olympics': 1104, 'minimum': 1105, 'ladies': 1106, 'gentlemen': 1107, 'stick': 1108, 'george': 1109, 'clarke': 1110, 'simpson': 1111, 'born': 1112, 'derby': 1113, 'spondon': 1114, 'fun': 1115, 'words': 1116, 'cars': 1117, 'wonder': 1118, 'hang': 1119, 'imagining': 1120, 'freshening': 1121, 'added': 1122, 'bonus': 1123, 'party': 1124, 'statement': 1125, 'expanding': 1126, 'chose': 1127, 'jonnie': 1128, 'merchants': 1129, 'simply': 1130, 'japan': 1131, 'though': 1132, 'churned': 1133, 'decorated': 1134, 'papier': 1135, 'mache': 1136, 'bantock': 1137, 'wolverhampton': 1138, '110': 1139, 'doorway': 1140, 'enemies': 1141, 'divides': 1142, 'till': 1143, 'indian': 1144, 'army': 1145, 'contribution': 1146, 'treated': 1147, 'push': 1148, 'italy': 1149, 'heartland': 1150, 'grandfather': 1151, 'support': 1152, 'treating': 1153, 'enable': 1154, 'fruit': 1155, 'funeral': 1156, 'attractive': 1157, 'council': 1158, 'granddad': 1159, 'koran': 1160, 'islamic': 1161, 'education': 1162, 'islam': 1163, 'majority': 1164, 'cases': 1165, 'media': 1166, 'portrays': 1167, 'somali': 1168, 'palestine': 1169, 'chances': 1170, 'daughter': 1171, 'leading': 1172, 'annual': 1173, 'increases': 1174, '6': 1175, 'andy': 1176, 'nearest': 1177, 'prefer': 1178, 'maisonette': 1179, 'near': 1180, 'bus': 1181, 'stop': 1182, 'reception': 1183, 'biggest': 1184, 'gambling': 1185, 'ending': 1186, 'wales': 1187, 'places': 1188, 'straw': 1189, 'chairs': 1190, 'star': 1191, 'memorabilia': 1192, '14': 1193, 'topic': 1194, 'trend': 1195, 'specific': 1196, 'device': 1197, 'normally': 1198, 'panorama': 1199, 'marked': 1200, 'check': 1201, 'repeat': 1202, 'iplayer': 1203, 'timing': 1204, 'matters': 1205, 'less': 1206, 'slice': 1207, 'spotlight': 1208, 'scheduling': 1209, 'sikh': 1210, 'crops': 1211, 'andrea': 1212, 'marshall': 1213, 'concerned': 1214, 'tormented': 1215, 'viewer': 1216, 'hidden': 1217, 'mainland': 1218, 'schedules': 1219, \"later's\": 1220, 'latest': 1221, 'headline': 1222, 'mainstream': 1223, 'strictly': 1224, 'nights': 1225, 'earlier': 1226, 'egos': 1227, 'increase': 1228, 'taste': 1229, 'spanish': 1230, 'problems': 1231, 'moisture': 1232, \"anything's\": 1233, 'wednesday': 1234, 'contending': 1235, 'fierce': 1236, 'fest': 1237, 'korea': 1238, 'threw': 1239, \"soldier's\": 1240, 'arms': 1241, 'cried': 1242, 'romeo': 1243, 'juliet': 1244, 'iceberg': 1245, 'sources': 1246, 'listen': 1247, 'name': 1248, 'rhyming': 1249, 'slang': 1250, 'correct': 1251, 'dessert': 1252, 'laughed': 1253, 'wrap': 1254, 'rubbish': 1255, 'cinderella': 1256, 'argument': 1257, 'cow': 1258, 'jumps': 1259, 'slums': 1260, 'planners': 1261, 'sheffield': 1262, 'reckoned': 1263, 'epitomise': 1264, 'highlights': 1265, 'reflect': 1266, 'happening': 1267, 'telly': 1268, 'cinema': 1269, 'letters': 1270, 'press': 1271, 'builds': 1272, \"barr's\": 1273, 'finest': 1274, 'agent': 1275, 'scares': 1276, 'definitely': 1277, 'ticks': 1278, 'boxes': 1279, 'table': 1280, 'office': 1281, 'plymouth': 1282, '31': 1283, 'anybody': 1284, 'apply': 1285, 'especially': 1286, 'honourable': 1287, 'nursery': 1288, 'rhyme': 1289, \"should've\": 1290, 'queen': 1291, 'mean': 1292, 'win': 1293, 'consult': 1294, 'breath': 1295, 'northampton': 1296, 'company': 1297, 'manager': 1298, 'praise': 1299, 'jealous': 1300, 'college': 1301, 'concentrating': 1302, '1964': 1303, '1965': 1304, 'hearing': 1305, 'personal': 1306, 'robin': 1307, 'wilson': 1308, 'private': 1309, 'anywhere': 1310, 'benwell': 1311, 'minis': 1312, 'match': 1313, 'grecian': 1314, 'style': 1315, '69': 1316, 'liked': 1317, 'pop': 1318, 'scooter': 1319, 'iconic': 1320, 'enjoy': 1321, 'experiences': 1322, 'knack': 1323, 'machines': 1324, 'became': 1325, 'commercialised': 1326, 'focused': 1327, 'cost': 1328, 'double': 1329, 'typical': 1330, 'design': 1331, 'fellas': 1332, 'beating': 1333, 'power': 1334, 'mature': 1335, 'shower': 1336, 'appreciate': 1337, 'political': 1338, 'welsh': 1339, 'valleys': 1340, 'october': 1341, 'mining': 1342, 'community': 1343, 'unimaginable': 1344, 'memories': 1345, 'dj': 1346, '1966': 1347, '67': 1348, \"gaynor's\": 1349, 'recollection': 1350, 'touching': 1351, 'shows': 1352, 'gadgets': 1353, 'collectibles': 1354, 'caroline': 1355, 'station': 1356, 'disc': 1357, 'jockey': 1358, 'months': 1359, 'strange': 1360, 'producers': 1361, 'flowery': 1362, 'gear': 1363, 'executive': 1364, 'producer': 1365, 'froze': 1366, 'foodie': 1367, \"son's\": 1368, 'restaurant': 1369, 'john': 1370, 'craven': 1371, 'chance': 1372, 'sample': 1373, 'gems': 1374, 'step': 1375, 'onto': 1376, 'plain': 1377, 'daughters': 1378, 'sons': 1379, 'celebrate': 1380, 'advice': 1381, 'hunter': 1382, '230': 1383, 'force': 1384, 'restored': 1385, 'beat': 1386, 'super': 1387, 'changing': 1388, 'fast': 1389, 'reach': 1390, 'focusing': 1391, '1968': 1392, '1969': 1393, 'pregnant': 1394, 'occasion': 1395, 'advent': 1396, 'reliable': 1397, 'chamberlain': 1398, 'censored': 1399, 'script': 1400, 'antiquated': 1401, 'audition': 1402, 'terrible': 1403, 'ignorance': 1404, \"show's\": 1405, 'band': 1406, 'played': 1407, 'pill': 1408, 'outside': 1409, 'forget': 1410, 'vietnam': 1411, 'extraordinary': 1412, 'makers': 1413, 'ground': 1414, 'clue': 1415, 'incredible': 1416, 'breakthrough': 1417, 'science': 1418, 'technology': 1419, 'uphill': 1420, 'struggle': 1421, 'peak': 1422, 'district': 1423, 'authority': 1424, 'specified': 1425, 'permissions': 1426, 'granted': 1427, 'purchase': 1428, 'peaked': 1429, \"bar's\": 1430, 'preferred': 1431, 'older': 1432, 'backup': 1433, 'dimensions': 1434, 'lounge': 1435, 'including': 1436, 'fridge': 1437, 'dishwasher': 1438, 'whereas': 1439, 'compact': 1440, 'realistic': 1441, 'accept': 1442, 'marriages': 1443, 'relatively': 1444, 'context': 1445, 'embark': 1446, 'challenging': 1447, 'woman': 1448, 'putting': 1449, 'emphasis': 1450, 'celebration': 1451, 'evolution': 1452, 'requirement': 1453, 'function': 1454, 'valid': 1455, 'bishop': 1456, 'wills': 1457, 'kate': 1458, 'institution': 1459, 'vatican': 1460, 'common': 1461, 'roman': 1462, 'catholic': 1463, 'brothers': 1464, \"church's\": 1465, 'mammoth': 1466, 'condoms': 1467, 'dreadful': 1468, 'led': 1469, 'killing': 1470, 'meredith': 1471, 'views': 1472, 'cannot': 1473, 'self': 1474, 'vicar': 1475, 'writers': 1476, 'entertainment': 1477, 'subdued': 1478, 'sea': 1479, 'violence': 1480, 'visual': 1481, 'medium': 1482, 'comforting': 1483, 'rowers': 1484, 'book': 1485, 'changed': 1486, 'creationist': 1487, 'phil': 1488, 'robinson': 1489, 'truck': 1490, 'darwin': 1491, 'watch': 1492, 'uncomfortable': 1493, 'catharsis': 1494, 'investigates': 1495, 'enables': 1496, 'fiction': 1497, 'direct': 1498, 'painful': 1499, 'shakespeare': 1500, 'nevertheless': 1501, 'examining': 1502, 'condition': 1503, 'vows': 1504, '80': 1505, 'yes': 1506, '17': 1507, 'wonderfully': 1508, 'satisfying': 1509, 'andrew': 1510, 'machin': 1511, 'toss': 1512, 'thermodynamics': 1513, 'scientist': 1514, 'asian': 1515, 'elephant': 1516, 'suffering': 1517, 'keeper': 1518, 'elephants': 1519, 'foreign': 1520, 'holidays': 1521, 'giants': 1522, 'everywhere': 1523, 'meant': 1524, 'walter': 1525, 'afford': 1526, 'taxidermists': 1527, 'intention': 1528, 'behind': 1529, 'diversities': 1530, 'awful': 1531, 'chase': 1532, 'engine': 1533, 'began': 1534, 'either': 1535, 'horrible': 1536, 'grandparents': 1537, 'encourage': 1538, 'americans': 1539, 'candy': 1540, 'feeling': 1541, 'tasks': 1542, 'patients': 1543, 'skin': 1544, 'biopsy': 1545, 'type': 1546, 'discharged': 1547, 'dramatically': 1548, 'plays': 1549, 'pilot': 1550, 'falls': 1551, 'operator': 1552, 'tried': 1553, 'harsh': 1554, 'sentences': 1555, 'delivering': 1556, 'dramas': 1557, 'recently': 1558, 'land': 1559, 'girls': 1560, 'moving': 1561, 'ponder': 1562, 'wonderful': 1563, 'sports': 1564, 'yesteryear': 1565, 'sporting': 1566, 'rights': 1567, 'acquisition': 1568, 'button': 1569, 'season': 1570, 'ease': 1571, 'talks': 1572, 'drivers': 1573, 'principals': 1574, 'jon': 1575, 'culshaw': 1576, 'impressions': 1577, 'list': 1578, 'tickle': 1579, 'odd': 1580, 'funny': 1581, 'bone': 1582, 'buzzcocks': 1583, 'hosted': 1584, 'comedian': 1585, 'simon': 1586, 'amstell': 1587, \"hasn't\": 1588, 'publicised': 1589, 'celeb': 1590, 'wraps': 1591, 'emperor': 1592, 'shot': 1593, 'value': 1594, 'trophy': 1595, 'hunters': 1596, 'shooting': 1597, 'slight': 1598, 'noise': 1599, 'defines': 1600, 'scent': 1601, 'miles': 1602, 'cornwall': 1603, 'received': 1604, 'complaints': 1605, 'bullets': 1606, 'fences': 1607, 'abroad': 1608, 'willing': 1609, 'stag': 1610, 'meet': 1611, 'taken': 1612, 'sold': 1613, 'aid': 1614, 'cause': 1615, 'james': 1616, 'joined': 1617, 'eats': 1618, 'knows': 1619, 'blackberries': 1620, 'fork': 1621, 'handles': 1622, 'split': 1623, 'songwriting': 1624, 'brew': 1625, 'casual': 1626, 'labourer': 1627, 'jokes': 1628, 'dorothy': 1629, 'nancy': 1630, '200': 1631, 'milligrams': 1632, 'epid': 1633, 'hotdogs': 1634, 'popcorn': 1635, 'crew': 1636, 'weakest': 1637, 'link': 1638, 'suggested': 1639, 'installed': 1640, 'harrowing': 1641, 'footage': 1642, 'woke': 1643, \"o'clock\": 1644, 'dozen': 1645, 'giggling': 1646, 'inappropriately': 1647, 'simple': 1648, 'task': 1649, 'snow': 1650, 'bloody': 1651, 'cloud': 1652, 'grandkids': 1653, 'frozen': 1654, 'version': 1655, 'torvill': 1656, 'dean': 1657, 'struggled': 1658, 'mapperley': 1659, \"rachel's\": 1660, 'negative': 1661, 'couples': 1662, 'cop': 1663, 'playground': 1664, 'evening': 1665, 'dignity': 1666, 'guess': 1667, 'box': 1668, 'factory': 1669, 'victory': 1670, 'struggling': 1671, 'similar': 1672, 'nigel': 1673, 'hesitate': 1674, 'hi': 1675, 'las': 1676, 'vegas': 1677, 'shape': 1678, 'painter': 1679, 'primarily': 1680, 'landscapes': 1681, 'airport': 1682, 'pitched': 1683, 'advantage': 1684, 'learning': 1685, 'minus': 1686, 'faced': 1687, 'downsizing': 1688, 'dilemma': 1689, 'taught': 1690, 'spotted': 1691, 'effect': 1692, 'reserve': 1693, 'judgment': 1694, 'enjoyed': 1695, 'features': 1696, 'deco': 1697, 'duplex': 1698, 'apartment': 1699, 'mine': 1700, 'admit': 1701, \"james'\": 1702, 'fitting': 1703, 'catherine': 1704, 'southon': 1705, '195': 1706, 'leftover': 1707, 'lolly': 1708, 'cousin': 1709, 'window': 1710, '249': 1711, 'mum': 1712, 'age': 1713, 'drumming': 1714, 'batteries': 1715, 'ran': 1716, 'quickly': 1717, 'frankly': 1718, 'static': 1719, 'decoy': 1720, 'almost': 1721, 'estimate': 1722, '500': 1723, 'originally': 1724, 'dust': 1725, 'pollution': 1726, 'paint': 1727, 'onions': 1728, 'evaporator': 1729, 'breakfast': 1730, 'gum': 1731, 'mixture': 1732, 'chew': 1733, 'manufacturers': 1734, 'products': 1735, 'separate': 1736, 'cards': 1737, 'barn': 1738, 'conversions': 1739, 'canal': 1740, 'unsaid': 1741, 'negatives': 1742, '350': 1743, 'flyer': 1744, 'sells': 1745, 'houses': 1746, 'bother': 1747, 'likes': 1748, 'took': 1749, 'liberty': 1750, 'measuring': 1751, 'secretly': 1752, 'learned': 1753, 'momentous': 1754, 'search': 1755, 'running': 1756, '25': 1757, 'hanging': 1758, 'walls': 1759, 'patrons': 1760, 'main': 1761, 'voices': 1762, 'pink': 1763, 'yellow': 1764, 'worries': 1765, 'fool': 1766, 'tragedy': 1767, 'yourself': 1768, 'believing': 1769, 'phenomenon': 1770, 'inverted': 1771, 'commas': 1772, 'tend': 1773, \"daren't\": 1774, 'mention': 1775, 'break': 1776, 'airways': 1777, 'worker': 1778, 'sue': 1779, 'employer': 1780, 'opened': 1781, \"mother's\": 1782, 'sitting': 1783, 'bacon': 1784, 'sandwich': 1785, 'cup': 1786, 'tipsy': 1787, 'technical': 1788, 'justify': 1789, 'laugh': 1790, 'saturday': 1791, 'travelled': 1792, 'canoe': 1793, 'rowing': 1794, 'section': 1795, 'sailing': 1796, 'sunday': 1797, 'mornings': 1798, 'members': 1799, 'yacht': 1800, 'meets': 1801, 'steering': 1802, 'tiny': 1803, 'boys': 1804, 'bet': 1805, 'higher': 1806, 'coloured': 1807, 'deck': 1808, 'stubble': 1809, 'approach': 1810, 'downwind': 1811, 'told': 1812, 'boat': 1813, 'southampton': 1814, 'portsmouth': 1815, 'camped': 1816, 'ride': 1817, 'isle': 1818, 'wight': 1819, 'winds': 1820, 'behave': 1821, 'bull': 1822, 'china': 1823, 'shop': 1824, 'prove': 1825, 'stereotype': 1826, 'grit': 1827, 'determination': 1828, 'actors': 1829, 'distracted': 1830, 'dexter': 1831, 'lazy': 1832, 'possible': 1833, 'embarrass': 1834, 'parade': 1835, 'hannibal': 1836, 'lector': 1837, 'psychopathic': 1838, 'cannibal': 1839, 'serial': 1840, 'businesses': 1841, 'jason': 1842, 'howard': 1843, '65': 1844, 'lead': 1845, 'vocals': 1846, 'unfortunately': 1847, 'stationery': 1848, 'wholesalers': 1849, 'burnt': 1850, 'psychic': 1851, 'suggestion': 1852, 'starts': 1853, 'felt': 1854, 'assaulted': 1855, 'sweat': 1856, 'wash': 1857, 'generous': 1858, 'bequests': 1859, 'incredibly': 1860, 'refined': 1861, 'polymath': 1862, 'applied': 1863, 'arts': 1864, 'designed': 1865, 'textiles': 1866, '2005': 1867, 'strides': 1868, 'passionate': 1869, 'impose': 1870, 'himself': 1871, 'opposition': 1872, 'mess': 1873, 'triumph': 1874, 'rational': 1875, 'surprising': 1876, \"age's\": 1877, 'unusual': 1878, 'thinkers': 1879, 'fell': 1880, 'stairs': 1881, 'rarest': 1882, \"who've\": 1883, 'lunar': 1884, 'bored': 1885, 'wearisome': 1886, 'calculations': 1887, 'structure': 1888, 'greeks': 1889, 'tumbling': 1890, 'astronomers': 1891, 'complained': 1892, 'brought': 1893, 'physics': 1894, 'astronomy': 1895, 'chickpeas': 1896, 'slippers': 1897, 'son': 1898, 'teaches': 1899, 'heaven': 1900, \"galileo's\": 1901, 'trial': 1902, 'realise': 1903, 'uncharacteristic': 1904, 'modesty': 1905, 'experts': 1906, 'stamina': 1907, 'square': 1908, 'collectables': 1909, 'hunt': 1910, 'spirit': 1911, 'irrespective': 1912, 'service': 1913, 'risk': 1914, 'strategy': 1915, 'prediction': 1916, 'choose': 1917, 'steam': 1918, 'condenses': 1919, 'mirror': 1920, 'wallpaper': 1921, 'paste': 1922, 'sophisticated': 1923, 'laboratory': 1924, 'ingredient': 1925, 'fat': 1926, 'internally': 1927, 'beyond': 1928, 'wildest': 1929, 'detached': 1930, 'blown': 1931, 'reading': 1932, 'lines': 1933, 'bits': 1934, 'pieces': 1935, 'suspect': 1936, 'ashover': 1937, 'basically': 1938, 'longer': 1939, 'rarely': 1940, 'flushed': 1941, 'estimated': 1942, '40': 1943, '60': 1944, 'surprised': 1945, 'scared': 1946, 'otherwise': 1947, 'volcano': 1948, 'glad': 1949, 'dropped': 1950, 'friend': 1951, 'liver': 1952, 'fine': 1953, 'alcoholic': 1954, 'refer': 1955, 'seriously': 1956, \"everybody's\": 1957, 'terrified': 1958, 'letting': 1959, '23': 1960, 'ideas': 1961, 'load': 1962, 'revolver': 1963, 'vegetarian': 1964, 'cabbage': 1965, 'noticed': 1966, 'lady': 1967, 'vita': 1968, 'circumference': 1969, \"we'd\": 1970, \"jennifer's\": 1971, 'vowels': 1972, 'desperately': 1973, 'cooks': 1974, 'clarissa': 1975, 'beside': 1976, 'barricades': 1977, 'pagan': 1978, 'holiday': 1979, 'adopted': 1980, 'birthday': 1981, 'worthwhile': 1982, 'quote': 1983, 'fox': 1984, 'predate': 1985, 'hares': 1986, 'coursing': 1987, 'open': 1988, 'spaces': 1989, 'era': 1990, 'stone': 1991, 'built': 1992, 'regulations': 1993, 'convert': 1994, 'affordable': 1995, 'housing': 1996, 'serious': 1997, 'test': 1998, 'pod': 1999, 'buried': 2000, 'breathing': 2001, 'apparatus': 2002, 'knowing': 2003, 'industry': 2004, 'revived': 2005, 'dramatic': 2006, 'backdrop': 2007, 'countless': 2008, 'literature': 2009, 'charles': 2010, 'kingsley': 2011, 'wordsworth': 2012, 'pair': 2013, 'breeding': 2014, 'peregrine': 2015, 'falcons': 2016, 'hoping': 2017, 'glimpse': 2018, \"dave's\": 2019, 'telescope': 2020, 'yorkshire': 2021, 'artists': 2022, 'italian': 2023, 'sunbeam': 2024, 'outshine': 2025, 'memory': 2026, 'pleasant': 2027, 'fairly': 2028, 'shortly': 2029, 'burn': 2030, 'rubber': 2031, 'dreaming': 2032, 'dvd': 2033, 'points': 2034, 'viewers': 2035, 'television': 2036, 'site': 2037, 'quarter': 2038, 'likely': 2039, 'games': 2040, 'cbbc': 2041, 'pages': 2042, 'conrad': 2043, 'caterpillar': 2044, 'twice': 2045, 'repeated': 2046, 'slot': 2047, '50th': 2048, 'independence': 2049, 'importance': 2050, 'maintaining': 2051, 'exposure': 2052, 'bird': 2053, 'operations': 2054, 'loud': 2055, 'noises': 2056, 'amongst': 2057, 'silent': 2058, 'turkey': 2059, 'thefts': 2060, 'closer': 2061, 'fully': 2062, 'levels': 2063, 'inspection': 2064, 'medicated': 2065, 'feeds': 2066, 'risks': 2067, 'orange': 2068, 'carrot': 2069, 'examples': 2070, 'bred': 2071, 'bales': 2072, 'exe': 2073, 'estuary': 2074, 'important': 2075, 'stopover': 2076, 'genuine': 2077, 'ailment': 2078, 'rules': 2079, 'receptionist': 2080, 'winding': 2081, 'highly': 2082, 'inappropriate': 2083, 'behaviour': 2084, 'buckingham': 2085, 'palace': 2086, 'hair': 2087, 'large': 2088, 'sensing': 2089, 'theme': 2090, 'gastro': 2091, 'gods': 2092, 'thankfully': 2093, 'zeus': 2094, 'avert': 2095, 'disaster': 2096, 'hurled': 2097, 'constellation': 2098, 'ursa': 2099, 'major': 2100, 'arrangement': 2101, 'facing': 2102, 'earth': 2103, 'looked': 2104, 'reaches': 2105, 'volcanoes': 2106, 'solar': 2107, 'tying': 2108, 'train': 2109, 'hold': 2110, \"kathy's\": 2111, 'intrigued': 2112, 'easy': 2113, 'richer': 2114, 'yvonne': 2115, 'brian': 2116, 'crying': 2117, '54': 2118, 'tremendous': 2119, 'alan': 2120, \"titchmarsh's\": 2121, 'number': 2122, 'animal': 2123, 'storage': 2124, 'unit': 2125, 'cows': 2126, 'warm': 2127, 'fireplace': 2128, 'serving': 2129, 'hatch': 2130, 'al': 2131, 'gore': 2132, 'incroyably': 2133, 'tankers': 2134, 'wizards': 2135, 'dragons': 2136, 'girl': 2137, 'dogs': 2138, 'musical': 2139, 'instrument': 2140, 'shopping': 2141, 'effective': 2142, 'luca': 2143, 'giordano': 2144, 'fashioned': 2145, 'date': 2146, 'teams': 2147, 'blues': 2148, 'forward': 2149, 'contest': 2150, '45': 2151, 'basics': 2152, 'pass': 2153, 'mash': 2154, '50': 2155, 'cups': 2156, 'filled': 2157, 'beans': 2158, 'clean': 2159, 'cereal': 2160, 'plan': 2161, 'scarce': 2162, 'diplomat': 2163, 'award': 2164, 'silver': 2165, 'awarded': 2166, 'ambassador': 2167, 'during': 2168, 'formal': 2169, 'dinners': 2170, 'trouble': 2171, 'face': 2172, 'spot': 2173, 'usually': 2174, 'liquid': 2175, 'mix': 2176, 'powder': 2177, 'cream': 2178, 'adds': 2179, 'electric': 2180, 'vegetables': 2181, 'race': 2182, 'surprise': 2183, 'factories': 2184, 'extruder': 2185, 'continuous': 2186, 'grinds': 2187, 'ago': 2188, 'diaries': 2189, \"century's\": 2190, 'progression': 2191, 'abyss': 2192, 'opens': 2193, 'technically': 2194, 'net': 2195, 'terror': 2196, 'held': 2197, 'ordinary': 2198, 'existence': 2199, 'mortgage': 2200, 'limitations': 2201, 'economic': 2202, 'situation': 2203, 'alive': 2204, 'keenly': 2205, 'disdain': 2206, 'single': 2207, 'handing': 2208, 'qualify': 2209, 'becomes': 2210, 'tigers': 2211, 'pulled': 2212, 'shoe': 2213, 'therapeutic': 2214, 'aspects': 2215, 'cash': 2216, 'figure': 2217, 'formation': 2218, 'india': 2219}\n",
      "[[ 3.2000000e+01  5.0000000e+00  8.7000000e+01 ...  7.6321840e+00\n",
      "   1.9746000e+04 -1.5366625e+00]\n",
      " [ 2.4000000e+01  6.0000000e+00  1.1000000e+02 ...  8.4272728e+00\n",
      "   2.1165000e+04 -1.5255282e+00]\n",
      " [ 2.3000000e+01  6.0000000e+00  1.0200000e+02 ...  8.6568632e+00\n",
      "   2.0451000e+04 -1.5445094e+00]\n",
      " ...\n",
      " [ 0.0000000e+00  0.0000000e+00  0.0000000e+00 ...  0.0000000e+00\n",
      "   0.0000000e+00  0.0000000e+00]\n",
      " [ 0.0000000e+00  0.0000000e+00  0.0000000e+00 ...  0.0000000e+00\n",
      "   0.0000000e+00  0.0000000e+00]\n",
      " [ 0.0000000e+00  0.0000000e+00  0.0000000e+00 ...  0.0000000e+00\n",
      "   0.0000000e+00  0.0000000e+00]]\n",
      "[[0. 1. 0. ... 0. 0. 0.]\n",
      " [0. 0. 0. ... 0. 0. 0.]\n",
      " [0. 0. 0. ... 0. 0. 0.]\n",
      " ...\n",
      " [0. 0. 0. ... 0. 0. 0.]\n",
      " [0. 0. 0. ... 0. 0. 0.]\n",
      " [0. 0. 0. ... 0. 0. 0.]]\n",
      "Number of classes: 2220\n"
     ]
    }
   ],
   "source": [
    "# Load and process your data\n",
    "gabor_features, sequences_padded, n_classes = load_and_process_data(gabor_features, sequences)\n",
    "print(f\"Number of classes: {n_classes}\")\n",
    "\n",
    "# Check lengths of data\n",
    "if len(gabor_features) != len(sequences_padded):\n",
    "    print(f\"Length of input data: {len(gabor_features)}, Length of output data: {len(sequences_padded)}\")\n",
    "    # Trim the larger dataset\n",
    "    min_len = min(len(gabor_features), len(sequences_padded))\n",
    "    gabor_features = gabor_features[:min_len]\n",
    "    sequences_padded = sequences_padded[:min_len]"
   ]
  },
  {
   "cell_type": "code",
   "execution_count": 18,
   "metadata": {},
   "outputs": [
    {
     "data": {
      "text/plain": [
       "(1256, 152, 7)"
      ]
     },
     "execution_count": 18,
     "metadata": {},
     "output_type": "execute_result"
    }
   ],
   "source": [
    "gabor_features.shape"
   ]
  },
  {
   "cell_type": "code",
   "execution_count": 19,
   "metadata": {},
   "outputs": [
    {
     "data": {
      "text/plain": [
       "(1256, 76, 2220)"
      ]
     },
     "execution_count": 19,
     "metadata": {},
     "output_type": "execute_result"
    }
   ],
   "source": [
    "sequences_padded.shape"
   ]
  },
  {
   "cell_type": "code",
   "execution_count": 6,
   "metadata": {},
   "outputs": [],
   "source": [
    "# Split the data into training and testing sets\n",
    "X_train, X_test, y_train, y_test = train_test_split(gabor_features, sequences_padded, test_size=0.2)\n",
    "\n",
    "# Create and compile model\n",
    "model = attention_model(n_classes)\n",
    "model.compile(optimizer='adam', loss='categorical_crossentropy', metrics=['accuracy'])\n",
    "\n",
    "# Set callbacks\n",
    "lr_reduce = kcallbacks.ReduceLROnPlateau(monitor='val_loss', factor=0.5, patience=6, verbose=1, min_lr=0.00001)\n",
    "save_model = kcallbacks.ModelCheckpoint(filepath=\"model/lrs2_gabor_seq2seq.h5\", monitor='val_accuracy', verbose=1, save_best_only=True, mode='max')"
   ]
  },
  {
   "cell_type": "code",
   "execution_count": 9,
   "metadata": {},
   "outputs": [
    {
     "name": "stdout",
     "output_type": "stream",
     "text": [
      "Epoch 1/50\n",
      "8/8 [==============================] - ETA: 0s - loss: 0.6976 - accuracy: 0.0160\n",
      "Epoch 1: val_accuracy improved from 0.01566 to 0.01624, saving model to model\\lrs2_gabor_seq2seq.h5\n",
      "8/8 [==============================] - 23s 3s/step - loss: 0.6976 - accuracy: 0.0160 - val_loss: 0.7168 - val_accuracy: 0.0162 - lr: 0.0010\n",
      "Epoch 2/50\n",
      "8/8 [==============================] - ETA: 0s - loss: 0.6862 - accuracy: 0.0165\n",
      "Epoch 2: val_accuracy improved from 0.01624 to 0.01666, saving model to model\\lrs2_gabor_seq2seq.h5\n",
      "8/8 [==============================] - 29s 4s/step - loss: 0.6862 - accuracy: 0.0165 - val_loss: 0.7092 - val_accuracy: 0.0167 - lr: 0.0010\n",
      "Epoch 3/50\n",
      "8/8 [==============================] - ETA: 0s - loss: 0.6768 - accuracy: 0.0169\n",
      "Epoch 3: val_accuracy improved from 0.01666 to 0.01671, saving model to model\\lrs2_gabor_seq2seq.h5\n",
      "8/8 [==============================] - 29s 4s/step - loss: 0.6768 - accuracy: 0.0169 - val_loss: 0.7036 - val_accuracy: 0.0167 - lr: 0.0010\n",
      "Epoch 4/50\n",
      "8/8 [==============================] - ETA: 0s - loss: 0.6693 - accuracy: 0.0169\n",
      "Epoch 4: val_accuracy did not improve from 0.01671\n",
      "8/8 [==============================] - 25s 3s/step - loss: 0.6693 - accuracy: 0.0169 - val_loss: 0.6990 - val_accuracy: 0.0167 - lr: 0.0010\n",
      "Epoch 5/50\n",
      "8/8 [==============================] - ETA: 0s - loss: 0.6638 - accuracy: 0.0174\n",
      "Epoch 5: val_accuracy improved from 0.01671 to 0.01754, saving model to model\\lrs2_gabor_seq2seq.h5\n",
      "8/8 [==============================] - 19s 2s/step - loss: 0.6638 - accuracy: 0.0174 - val_loss: 0.6961 - val_accuracy: 0.0175 - lr: 0.0010\n",
      "Epoch 6/50\n",
      "8/8 [==============================] - ETA: 0s - loss: 0.6596 - accuracy: 0.0175\n",
      "Epoch 6: val_accuracy improved from 0.01754 to 0.01760, saving model to model\\lrs2_gabor_seq2seq.h5\n",
      "8/8 [==============================] - 19s 2s/step - loss: 0.6596 - accuracy: 0.0175 - val_loss: 0.6940 - val_accuracy: 0.0176 - lr: 0.0010\n",
      "Epoch 7/50\n",
      "8/8 [==============================] - ETA: 0s - loss: 0.6566 - accuracy: 0.0175\n",
      "Epoch 7: val_accuracy did not improve from 0.01760\n",
      "8/8 [==============================] - 20s 2s/step - loss: 0.6566 - accuracy: 0.0175 - val_loss: 0.6928 - val_accuracy: 0.0176 - lr: 0.0010\n",
      "Epoch 8/50\n",
      "8/8 [==============================] - ETA: 0s - loss: 0.6543 - accuracy: 0.0175\n",
      "Epoch 8: val_accuracy did not improve from 0.01760\n",
      "8/8 [==============================] - 20s 3s/step - loss: 0.6543 - accuracy: 0.0175 - val_loss: 0.6921 - val_accuracy: 0.0176 - lr: 0.0010\n",
      "Epoch 9/50\n",
      "8/8 [==============================] - ETA: 0s - loss: 0.6525 - accuracy: 0.0175\n",
      "Epoch 9: val_accuracy did not improve from 0.01760\n",
      "8/8 [==============================] - 19s 2s/step - loss: 0.6525 - accuracy: 0.0175 - val_loss: 0.6913 - val_accuracy: 0.0176 - lr: 0.0010\n",
      "Epoch 10/50\n",
      "8/8 [==============================] - ETA: 0s - loss: 0.6510 - accuracy: 0.0175\n",
      "Epoch 10: val_accuracy did not improve from 0.01760\n",
      "8/8 [==============================] - 19s 2s/step - loss: 0.6510 - accuracy: 0.0175 - val_loss: 0.6908 - val_accuracy: 0.0176 - lr: 0.0010\n",
      "Epoch 11/50\n",
      "8/8 [==============================] - ETA: 0s - loss: 0.6497 - accuracy: 0.0175\n",
      "Epoch 11: val_accuracy did not improve from 0.01760\n",
      "8/8 [==============================] - 19s 2s/step - loss: 0.6497 - accuracy: 0.0175 - val_loss: 0.6905 - val_accuracy: 0.0176 - lr: 0.0010\n",
      "Epoch 12/50\n",
      "8/8 [==============================] - ETA: 0s - loss: 0.6485 - accuracy: 0.0175\n",
      "Epoch 12: val_accuracy did not improve from 0.01760\n",
      "8/8 [==============================] - 20s 2s/step - loss: 0.6485 - accuracy: 0.0175 - val_loss: 0.6901 - val_accuracy: 0.0176 - lr: 0.0010\n",
      "Epoch 13/50\n",
      "8/8 [==============================] - ETA: 0s - loss: 0.6473 - accuracy: 0.0175\n",
      "Epoch 13: val_accuracy did not improve from 0.01760\n",
      "8/8 [==============================] - 19s 2s/step - loss: 0.6473 - accuracy: 0.0175 - val_loss: 0.6893 - val_accuracy: 0.0176 - lr: 0.0010\n",
      "Epoch 14/50\n",
      "8/8 [==============================] - ETA: 0s - loss: 0.6456 - accuracy: 0.0175\n",
      "Epoch 14: val_accuracy did not improve from 0.01760\n",
      "8/8 [==============================] - 19s 2s/step - loss: 0.6456 - accuracy: 0.0175 - val_loss: 0.6856 - val_accuracy: 0.0169 - lr: 0.0010\n",
      "Epoch 15/50\n",
      "8/8 [==============================] - ETA: 0s - loss: 0.6411 - accuracy: 0.0169\n",
      "Epoch 15: val_accuracy did not improve from 0.01760\n",
      "8/8 [==============================] - 23s 3s/step - loss: 0.6411 - accuracy: 0.0169 - val_loss: 0.6749 - val_accuracy: 0.0166 - lr: 0.0010\n",
      "Epoch 16/50\n",
      "8/8 [==============================] - ETA: 0s - loss: 0.6344 - accuracy: 0.0165\n",
      "Epoch 16: val_accuracy did not improve from 0.01760\n",
      "8/8 [==============================] - 22s 3s/step - loss: 0.6344 - accuracy: 0.0165 - val_loss: 0.6707 - val_accuracy: 0.0166 - lr: 0.0010\n",
      "Epoch 17/50\n",
      "8/8 [==============================] - ETA: 0s - loss: 0.6309 - accuracy: 0.0165\n",
      "Epoch 17: val_accuracy did not improve from 0.01760\n",
      "8/8 [==============================] - 20s 3s/step - loss: 0.6309 - accuracy: 0.0165 - val_loss: 0.6696 - val_accuracy: 0.0166 - lr: 0.0010\n",
      "Epoch 18/50\n",
      "8/8 [==============================] - ETA: 0s - loss: 0.6275 - accuracy: 0.0164\n",
      "Epoch 18: val_accuracy did not improve from 0.01760\n",
      "8/8 [==============================] - 18s 2s/step - loss: 0.6275 - accuracy: 0.0164 - val_loss: 0.6662 - val_accuracy: 0.0166 - lr: 0.0010\n",
      "Epoch 19/50\n",
      "8/8 [==============================] - ETA: 0s - loss: 0.6244 - accuracy: 0.0163\n",
      "Epoch 19: val_accuracy did not improve from 0.01760\n",
      "8/8 [==============================] - 19s 2s/step - loss: 0.6244 - accuracy: 0.0163 - val_loss: 0.6636 - val_accuracy: 0.0165 - lr: 0.0010\n",
      "Epoch 20/50\n",
      "8/8 [==============================] - ETA: 0s - loss: 0.6218 - accuracy: 0.0162\n",
      "Epoch 20: val_accuracy did not improve from 0.01760\n",
      "8/8 [==============================] - 24s 3s/step - loss: 0.6218 - accuracy: 0.0162 - val_loss: 0.6627 - val_accuracy: 0.0165 - lr: 0.0010\n",
      "Epoch 21/50\n",
      "8/8 [==============================] - ETA: 0s - loss: 0.6197 - accuracy: 0.0162\n",
      "Epoch 21: val_accuracy did not improve from 0.01760\n",
      "8/8 [==============================] - 21s 3s/step - loss: 0.6197 - accuracy: 0.0162 - val_loss: 0.6609 - val_accuracy: 0.0165 - lr: 0.0010\n",
      "Epoch 22/50\n",
      "8/8 [==============================] - ETA: 0s - loss: 0.6177 - accuracy: 0.0162\n",
      "Epoch 22: val_accuracy did not improve from 0.01760\n",
      "8/8 [==============================] - 18s 2s/step - loss: 0.6177 - accuracy: 0.0162 - val_loss: 0.6602 - val_accuracy: 0.0165 - lr: 0.0010\n",
      "Epoch 23/50\n",
      "8/8 [==============================] - ETA: 0s - loss: 0.6160 - accuracy: 0.0162\n",
      "Epoch 23: val_accuracy did not improve from 0.01760\n",
      "8/8 [==============================] - 19s 2s/step - loss: 0.6160 - accuracy: 0.0162 - val_loss: 0.6589 - val_accuracy: 0.0165 - lr: 0.0010\n",
      "Epoch 24/50\n",
      "8/8 [==============================] - ETA: 0s - loss: 0.6146 - accuracy: 0.0162\n",
      "Epoch 24: val_accuracy did not improve from 0.01760\n",
      "8/8 [==============================] - 20s 2s/step - loss: 0.6146 - accuracy: 0.0162 - val_loss: 0.6592 - val_accuracy: 0.0165 - lr: 0.0010\n",
      "Epoch 25/50\n",
      "8/8 [==============================] - ETA: 0s - loss: 0.6133 - accuracy: 0.0162\n",
      "Epoch 25: val_accuracy did not improve from 0.01760\n",
      "8/8 [==============================] - 20s 3s/step - loss: 0.6133 - accuracy: 0.0162 - val_loss: 0.6578 - val_accuracy: 0.0165 - lr: 0.0010\n",
      "Epoch 26/50\n",
      "8/8 [==============================] - ETA: 0s - loss: 0.6121 - accuracy: 0.0162\n",
      "Epoch 26: val_accuracy did not improve from 0.01760\n",
      "8/8 [==============================] - 20s 3s/step - loss: 0.6121 - accuracy: 0.0162 - val_loss: 0.6577 - val_accuracy: 0.0165 - lr: 0.0010\n",
      "Epoch 27/50\n",
      "8/8 [==============================] - ETA: 0s - loss: 0.6110 - accuracy: 0.0164\n",
      "Epoch 27: val_accuracy did not improve from 0.01760\n",
      "8/8 [==============================] - 24s 3s/step - loss: 0.6110 - accuracy: 0.0164 - val_loss: 0.6573 - val_accuracy: 0.0171 - lr: 0.0010\n",
      "Epoch 28/50\n",
      "8/8 [==============================] - ETA: 0s - loss: 0.6100 - accuracy: 0.0168\n",
      "Epoch 28: val_accuracy did not improve from 0.01760\n",
      "8/8 [==============================] - 26s 3s/step - loss: 0.6100 - accuracy: 0.0168 - val_loss: 0.6570 - val_accuracy: 0.0171 - lr: 0.0010\n",
      "Epoch 29/50\n",
      "8/8 [==============================] - ETA: 0s - loss: 0.6090 - accuracy: 0.0169\n",
      "Epoch 29: val_accuracy did not improve from 0.01760\n",
      "8/8 [==============================] - 26s 3s/step - loss: 0.6090 - accuracy: 0.0169 - val_loss: 0.6567 - val_accuracy: 0.0172 - lr: 0.0010\n",
      "Epoch 30/50\n",
      "8/8 [==============================] - ETA: 0s - loss: 0.6079 - accuracy: 0.0169\n",
      "Epoch 30: val_accuracy did not improve from 0.01760\n",
      "8/8 [==============================] - 25s 3s/step - loss: 0.6079 - accuracy: 0.0169 - val_loss: 0.6561 - val_accuracy: 0.0172 - lr: 0.0010\n",
      "Epoch 31/50\n",
      "8/8 [==============================] - ETA: 0s - loss: 0.6069 - accuracy: 0.0169\n",
      "Epoch 31: val_accuracy did not improve from 0.01760\n",
      "8/8 [==============================] - 25s 3s/step - loss: 0.6069 - accuracy: 0.0169 - val_loss: 0.6549 - val_accuracy: 0.0172 - lr: 0.0010\n",
      "Epoch 32/50\n",
      "8/8 [==============================] - ETA: 0s - loss: 0.6058 - accuracy: 0.0169\n",
      "Epoch 32: val_accuracy did not improve from 0.01760\n",
      "8/8 [==============================] - 20s 3s/step - loss: 0.6058 - accuracy: 0.0169 - val_loss: 0.6548 - val_accuracy: 0.0172 - lr: 0.0010\n",
      "Epoch 33/50\n",
      "8/8 [==============================] - ETA: 0s - loss: 0.6048 - accuracy: 0.0174\n",
      "Epoch 33: val_accuracy improved from 0.01760 to 0.01812, saving model to model\\lrs2_gabor_seq2seq.h5\n",
      "8/8 [==============================] - 22s 3s/step - loss: 0.6048 - accuracy: 0.0174 - val_loss: 0.6543 - val_accuracy: 0.0181 - lr: 0.0010\n",
      "Epoch 34/50\n",
      "8/8 [==============================] - ETA: 0s - loss: 0.6039 - accuracy: 0.0179\n",
      "Epoch 34: val_accuracy did not improve from 0.01812\n",
      "8/8 [==============================] - 22s 3s/step - loss: 0.6039 - accuracy: 0.0179 - val_loss: 0.6540 - val_accuracy: 0.0181 - lr: 0.0010\n",
      "Epoch 35/50\n",
      "8/8 [==============================] - ETA: 0s - loss: 0.6029 - accuracy: 0.0181\n",
      "Epoch 35: val_accuracy improved from 0.01812 to 0.01838, saving model to model\\lrs2_gabor_seq2seq.h5\n",
      "8/8 [==============================] - 21s 3s/step - loss: 0.6029 - accuracy: 0.0181 - val_loss: 0.6536 - val_accuracy: 0.0184 - lr: 0.0010\n",
      "Epoch 36/50\n",
      "8/8 [==============================] - ETA: 0s - loss: 0.6021 - accuracy: 0.0181\n",
      "Epoch 36: val_accuracy did not improve from 0.01838\n",
      "8/8 [==============================] - 21s 2s/step - loss: 0.6021 - accuracy: 0.0181 - val_loss: 0.6531 - val_accuracy: 0.0184 - lr: 0.0010\n",
      "Epoch 37/50\n",
      "8/8 [==============================] - ETA: 0s - loss: 0.6008 - accuracy: 0.0181\n",
      "Epoch 37: val_accuracy did not improve from 0.01838\n",
      "8/8 [==============================] - 19s 2s/step - loss: 0.6008 - accuracy: 0.0181 - val_loss: 0.6520 - val_accuracy: 0.0184 - lr: 0.0010\n",
      "Epoch 38/50\n",
      "8/8 [==============================] - ETA: 0s - loss: 0.5974 - accuracy: 0.0181\n",
      "Epoch 38: val_accuracy did not improve from 0.01838\n",
      "8/8 [==============================] - 19s 2s/step - loss: 0.5974 - accuracy: 0.0181 - val_loss: 0.6481 - val_accuracy: 0.0184 - lr: 0.0010\n",
      "Epoch 39/50\n",
      "8/8 [==============================] - ETA: 0s - loss: 0.5950 - accuracy: 0.0181\n",
      "Epoch 39: val_accuracy did not improve from 0.01838\n",
      "8/8 [==============================] - 20s 3s/step - loss: 0.5950 - accuracy: 0.0181 - val_loss: 0.6480 - val_accuracy: 0.0184 - lr: 0.0010\n",
      "Epoch 40/50\n",
      "8/8 [==============================] - ETA: 0s - loss: 0.5935 - accuracy: 0.0181\n",
      "Epoch 40: val_accuracy did not improve from 0.01838\n",
      "8/8 [==============================] - 19s 2s/step - loss: 0.5935 - accuracy: 0.0181 - val_loss: 0.6470 - val_accuracy: 0.0184 - lr: 0.0010\n",
      "Epoch 41/50\n",
      "8/8 [==============================] - ETA: 0s - loss: 0.5922 - accuracy: 0.0179\n",
      "Epoch 41: val_accuracy did not improve from 0.01838\n",
      "8/8 [==============================] - 19s 2s/step - loss: 0.5922 - accuracy: 0.0179 - val_loss: 0.6471 - val_accuracy: 0.0180 - lr: 0.0010\n",
      "Epoch 42/50\n",
      "8/8 [==============================] - ETA: 0s - loss: 0.5911 - accuracy: 0.0179\n",
      "Epoch 42: val_accuracy did not improve from 0.01838\n",
      "8/8 [==============================] - 19s 2s/step - loss: 0.5911 - accuracy: 0.0179 - val_loss: 0.6466 - val_accuracy: 0.0181 - lr: 0.0010\n",
      "Epoch 43/50\n",
      "8/8 [==============================] - ETA: 0s - loss: 0.5898 - accuracy: 0.0181\n",
      "Epoch 43: val_accuracy did not improve from 0.01838\n",
      "8/8 [==============================] - 19s 2s/step - loss: 0.5898 - accuracy: 0.0181 - val_loss: 0.6454 - val_accuracy: 0.0181 - lr: 0.0010\n",
      "Epoch 44/50\n",
      "8/8 [==============================] - ETA: 0s - loss: 0.5886 - accuracy: 0.0181\n",
      "Epoch 44: val_accuracy did not improve from 0.01838\n",
      "8/8 [==============================] - 19s 2s/step - loss: 0.5886 - accuracy: 0.0181 - val_loss: 0.6454 - val_accuracy: 0.0181 - lr: 0.0010\n",
      "Epoch 45/50\n",
      "8/8 [==============================] - ETA: 0s - loss: 0.5877 - accuracy: 0.0181\n",
      "Epoch 45: val_accuracy did not improve from 0.01838\n",
      "8/8 [==============================] - 19s 2s/step - loss: 0.5877 - accuracy: 0.0181 - val_loss: 0.6450 - val_accuracy: 0.0181 - lr: 0.0010\n",
      "Epoch 46/50\n",
      "8/8 [==============================] - ETA: 0s - loss: 0.5868 - accuracy: 0.0181\n",
      "Epoch 46: val_accuracy did not improve from 0.01838\n",
      "8/8 [==============================] - 19s 2s/step - loss: 0.5868 - accuracy: 0.0181 - val_loss: 0.6449 - val_accuracy: 0.0181 - lr: 0.0010\n",
      "Epoch 47/50\n",
      "8/8 [==============================] - ETA: 0s - loss: 0.5858 - accuracy: 0.0181\n",
      "Epoch 47: val_accuracy did not improve from 0.01838\n",
      "8/8 [==============================] - 19s 2s/step - loss: 0.5858 - accuracy: 0.0181 - val_loss: 0.6442 - val_accuracy: 0.0181 - lr: 0.0010\n",
      "Epoch 48/50\n",
      "8/8 [==============================] - ETA: 0s - loss: 0.5849 - accuracy: 0.0181\n",
      "Epoch 48: val_accuracy did not improve from 0.01838\n",
      "8/8 [==============================] - 19s 2s/step - loss: 0.5849 - accuracy: 0.0181 - val_loss: 0.6445 - val_accuracy: 0.0181 - lr: 0.0010\n",
      "Epoch 49/50\n",
      "8/8 [==============================] - ETA: 0s - loss: 0.5839 - accuracy: 0.0181\n",
      "Epoch 49: val_accuracy did not improve from 0.01838\n",
      "8/8 [==============================] - 19s 2s/step - loss: 0.5839 - accuracy: 0.0181 - val_loss: 0.6445 - val_accuracy: 0.0181 - lr: 0.0010\n",
      "Epoch 50/50\n",
      "8/8 [==============================] - ETA: 0s - loss: 0.5832 - accuracy: 0.0181\n",
      "Epoch 50: val_accuracy did not improve from 0.01838\n",
      "8/8 [==============================] - 19s 2s/step - loss: 0.5832 - accuracy: 0.0181 - val_loss: 0.6443 - val_accuracy: 0.0181 - lr: 0.0010\n"
     ]
    }
   ],
   "source": [
    "# Train the model\n",
    "history = model.fit(x=X_train, y=y_train, batch_size=128, epochs=50, validation_data=(X_test, y_test), callbacks=[lr_reduce, save_model])"
   ]
  },
  {
   "cell_type": "code",
   "execution_count": 10,
   "metadata": {},
   "outputs": [
    {
     "data": {
      "image/png": "[encoded data removed]",
      "text/plain": [
       "<Figure size 640x480 with 1 Axes>"
      ]
     },
     "metadata": {},
     "output_type": "display_data"
    }
   ],
   "source": [
    "# Plotting accuracy\n",
    "from matplotlib import pyplot as plt\n",
    "\n",
    "plt.plot(history.history['accuracy'])\n",
    "plt.plot(history.history['val_accuracy'])\n",
    "plt.title('model accuracy')\n",
    "plt.ylabel('accuracy')\n",
    "plt.xlabel('epoch')\n",
    "plt.legend(['train', 'test'], loc='upper left')\n",
    "plt.show()"
   ]
  },
  {
   "cell_type": "code",
   "execution_count": null,
   "metadata": {},
   "outputs": [],
   "source": []
  },
  {
   "cell_type": "code",
   "execution_count": null,
   "metadata": {},
   "outputs": [],
   "source": []
  },
  {
   "cell_type": "code",
   "execution_count": null,
   "metadata": {},
   "outputs": [],
   "source": []
  }
 ],
 "metadata": {
  "kernelspec": {
   "display_name": "avsr",
   "language": "python",
   "name": "python3"
  },
  "language_info": {
   "codemirror_mode": {
    "name": "ipython",
    "version": 3
   },
   "file_extension": ".py",
   "mimetype": "text/x-python",
   "name": "python",
   "nbconvert_exporter": "python",
   "pygments_lexer": "ipython3",
   "version": "3.8.16"
  },
  "orig_nbformat": 4
 },
 "nbformat": 4,
 "nbformat_minor": 2
}
